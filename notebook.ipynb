{
 "cells": [
  {
   "cell_type": "code",
   "execution_count": 1,
   "metadata": {},
   "outputs": [],
   "source": [
    "from nltk import pos_tag\n",
    "from nltk.tree import Tree\n",
    "from nltk.chunk import conlltags2tree"
   ]
  },
  {
   "cell_type": "code",
   "execution_count": 3,
   "metadata": {},
   "outputs": [],
   "source": [
    "tokens = ['In', 'Beirut', ',', 'a', 'string', 'of', 'officials',\n",
    "          'voiced', 'their', 'anger', ',', 'while', 'at',\n",
    "          'the', 'United', 'Nations', 'summit', 'in', 'New', \n",
    "          'York', ',', 'Prime', 'Minister', 'Fouad', 'Siniora',\n",
    "          'said', 'the', 'Lebanese', 'people', 'are', 'resolute',\n",
    "          'in', 'preventing', 'such', 'attempts', 'from',\n",
    "          'destroying', 'their', 'spirit', '.']\n",
    "tags = ['O', 'B-geo', 'O', 'O', 'O', 'O', 'O', 'O', 'O', 'O', \n",
    "        'O', 'O', 'O', 'O', 'B-org', 'I-org', 'O', 'O', 'B-geo', \n",
    "        'I-geo', 'O', 'B-per', 'O', 'B-per', 'I-per', 'O', 'O', \n",
    "        'B-gpe', 'O', 'O', 'O', 'O', 'O', 'O', 'O', 'O', 'O', \n",
    "        'O', 'O', 'O']"
   ]
  },
  {
   "cell_type": "code",
   "execution_count": 4,
   "metadata": {},
   "outputs": [],
   "source": [
    "pos_tags = [pos for token, pos in pos_tag(tokens)]"
   ]
  },
  {
   "cell_type": "code",
   "execution_count": 6,
   "metadata": {},
   "outputs": [],
   "source": [
    "conlltags = [(token, pos, tg) for token, pos, tg in zip(tokens, pos_tags, tags)]\n",
    "ne_tree = conlltags2tree(conlltags)"
   ]
  },
  {
   "cell_type": "code",
   "execution_count": 7,
   "metadata": {},
   "outputs": [],
   "source": [
    "original_text = []\n",
    "for subtree in ne_tree:\n",
    "    # checking for 'O' tags\n",
    "    if type(subtree) == Tree:\n",
    "        original_label = subtree.label()\n",
    "        original_string = \" \".join([token for token, pos in subtree.leaves()])\n",
    "        original_text.append((original_string, original_label))"
   ]
  },
  {
   "cell_type": "code",
   "execution_count": 8,
   "metadata": {},
   "outputs": [
    {
     "data": {
      "text/plain": [
       "[('Beirut', 'geo'),\n",
       " ('United Nations', 'org'),\n",
       " ('New York', 'geo'),\n",
       " ('Prime', 'per'),\n",
       " ('Fouad Siniora', 'per'),\n",
       " ('Lebanese', 'gpe')]"
      ]
     },
     "execution_count": 8,
     "metadata": {},
     "output_type": "execute_result"
    }
   ],
   "source": [
    "original_text"
   ]
  },
  {
   "cell_type": "code",
   "execution_count": null,
   "metadata": {},
   "outputs": [],
   "source": []
  }
 ],
 "metadata": {
  "kernelspec": {
   "display_name": "Python 3",
   "language": "python",
   "name": "python3"
  },
  "language_info": {
   "codemirror_mode": {
    "name": "ipython",
    "version": 3
   },
   "file_extension": ".py",
   "mimetype": "text/x-python",
   "name": "python",
   "nbconvert_exporter": "python",
   "pygments_lexer": "ipython3",
   "version": "3.6.5"
  }
 },
 "nbformat": 4,
 "nbformat_minor": 2
}
